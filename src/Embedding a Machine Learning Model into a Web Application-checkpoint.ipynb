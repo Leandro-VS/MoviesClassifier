{
 "cells": [
  {
   "cell_type": "markdown",
   "metadata": {},
   "source": [
    "# Serializando os estimadores do Scikit-Learn"
   ]
  },
  {
   "cell_type": "markdown",
   "metadata": {},
   "source": [
    "Com o modelo treinado com a tecnica out-of-core learning e serializado, podemos partir para a criaçãod e arquivos complementares para a aplicação."
   ]
  },
  {
   "cell_type": "markdown",
   "metadata": {},
   "source": [
    "O trecho abaxio refere-se a um arquivo.py para a limpeza dos dados e fará a tokenização com HashingVectorizer. O arquivo encontra-se no diretório _moviesclassifier_"
   ]
  },
  {
   "cell_type": "code",
   "execution_count": 1,
   "metadata": {},
   "outputs": [],
   "source": [
    "# from sklearn.feature_extraction.text import HashingVectorizer\n",
    "# import re\n",
    "# import os\n",
    "# import pickle\n",
    "\n",
    "# cur_dir = os.path.dirname(__file__)\n",
    "# stop = pickle.load(open(\n",
    "#                         os.path.join(cur_dir, 'pickle_objects', 'stopwords.pkl'), 'rb'))\n",
    "\n",
    "# def tokenizer(text):\n",
    "#     text = re.sub('<[^>]*>', '', text)\n",
    "#     emoticons = re.findall('(?::|;|=)(?:-)?(?:\\)|\\(|D|P)', text.lower())\n",
    "#     text = re.sub('[\\W]+', ' ', text.lower()) + ' '.join(emoticons).replace('-', '')\n",
    "#     tokenized = [w for w in text.split() if w not in stop]\n",
    "#     return tokenized\n",
    "\n",
    "# vect = HashingVectorizer(decode_error='ignore', \n",
    "#                          n_features=2**21, \n",
    "#                          preprocessor=None, \n",
    "#                          tokenizer=tokenizer)"
   ]
  },
  {
   "cell_type": "markdown",
   "metadata": {},
   "source": [
    "## Testando a serialização"
   ]
  },
  {
   "cell_type": "markdown",
   "metadata": {},
   "source": [
    "Uma vez feita a serialização podemos testar a desserialização:"
   ]
  },
  {
   "cell_type": "code",
   "execution_count": 4,
   "metadata": {},
   "outputs": [],
   "source": [
    "import pickle\n",
    "import re\n",
    "import os\n",
    "\n",
    "#Load vectorizer.py\n",
    "from vectorizer import vect\n",
    "\n",
    "#Unpickled Classifier\n",
    "clf = pickle.load(open(os.path.join(\n",
    "                                    'pkl_objects', 'classifier.pkl'), 'rb'))"
   ]
  },
  {
   "cell_type": "markdown",
   "metadata": {},
   "source": [
    "Podemos agora usar o objeto (modelo) carregado e processar um documento simples para fazer uma previsão sobre o  sentimento"
   ]
  },
  {
   "cell_type": "code",
   "execution_count": 9,
   "metadata": {},
   "outputs": [
    {
     "name": "stdout",
     "output_type": "stream",
     "text": [
      "Prediction: Positive\n",
      "Probability: 82.26%\n"
     ]
    }
   ],
   "source": [
    "import numpy as np\n",
    "\n",
    "#Como o modelo retorna o sentimento como inteiros, através de um dict mapeamos o output para uma string\n",
    "label = {0:'Negative', 1:'Positive'}\n",
    "\n",
    "example_1 = ['I love this movie']\n",
    "example_2 = ['This movies is garbage']\n",
    "\n",
    "#Transformando o documento em um vetor de palavras com HashingVectorizer\n",
    "X = vect.transform(example_1)\n",
    "\n",
    "#Printamos as previsões do modelo, tanto para a label quanto para a probabilidade de estar certo\n",
    "# Uma vez que o metodo predict_proba retorna um vetor com probabilidades para cada label, temos que o maior valor\n",
    "# deste vetor corresponde a label mais provável e que confere com o resultado do metodo predict, por isso faz-se\n",
    "# uso do np_max\n",
    "print('Prediction: %s\\nProbability: %.2f%%' % (label[clf.predict(X)[0]], \n",
    "                                               np.max(clf.predict_proba(X)*100)))"
   ]
  },
  {
   "cell_type": "markdown",
   "metadata": {},
   "source": [
    "# Configurando um Banco de Dados SQLite para armazenar os dados"
   ]
  },
  {
   "cell_type": "markdown",
   "metadata": {},
   "source": [
    "Iremos agora configurar um banco de dados [SQLite](http://www.sqlite.org) simples para coletar feedback opcional dos usuários sobre as previsões do aplicativo Web. Podemos usar esse feedback para atualiz nosso modelo de classificação. SQLite é um mecanismo de banco de dados SQL, de código aberto, que não requer um servidor separado para operar, o que o torna ideal para projetos menores e aplicativos da web simples. Essencialmente, um banco de dados SQLite pode ser entendido como um arquivo de banco de dados, único e independente que nos permite acessar diretamente arquivos de armazenamento."
   ]
  },
  {
   "cell_type": "markdown",
   "metadata": {},
   "source": [
    "Felizmente o python, em sua biblioteca, ja fornece uma API para lidar com SQLite, que se chama [__sqlite3__](https://docs.python.org/3.6/library/sqlite3.html) que nos permite trabalhar com banco de dados SQLite.\n",
    "<br>\n",
    "<br>\n",
    "Criaremos agora um novo banco de dados SQLite dentro do diretório movieclassifier e armazenar dois examples de reviews de filmes:"
   ]
  },
  {
   "cell_type": "code",
   "execution_count": 10,
   "metadata": {},
   "outputs": [],
   "source": [
    "import sqlite3\n",
    "import os"
   ]
  },
  {
   "cell_type": "code",
   "execution_count": 22,
   "metadata": {},
   "outputs": [],
   "source": [
    "#Se ja houver o diretório que queremos criar excluiremos \n",
    "if os.path.exists('review.sqlite'):\n",
    "    os.remove('review.sqlite')\n",
    "\n",
    "#Criando a conexão com banco de dados SQLite, que cria um novo banco de dados - ('review.sqlite') no diretório\n",
    "#movieclassifier se ele ja não existir\n",
    "conn = sqlite3.connect('review.sqlite')\n",
    "\n",
    "#Cursor que será responsável por fazer as chamadas para o banco com a sintaxe do SQLite\n",
    "c = conn.cursor()\n",
    "\n",
    "#Criando uma tabela com 3 colunas\n",
    "c.execute('CREATE TABLE review_db'\\\n",
    "                             '(review TEXT, sentiment INTEGER, date TEXT)')\n",
    "\n",
    "#Inserindo exemplos\n",
    "\"\"\"\n",
    "O comando DATETIME('now') insere automaticamente date e timestamp nas entradas fornecidas\n",
    "Usando os argumentos \"?, ?\" passamos os exemplos criados assim como sua classe correspondente (label)\n",
    "\"\"\"\n",
    "example1 = 'I love this movie'\n",
    "c.execute(\"INSERT INTO review_db\"\\\n",
    "            \"(review, sentiment, date) VALUES\"\\\n",
    "              \"(?, ?, DATETIME('now'))\", (example1, 1))\n",
    "\n",
    "example2 = 'I dislike this movie'\n",
    "c.execute(\"INSERT INTO review_db\"\\\n",
    "            \"(review, sentiment, date) VALUES\"\\\n",
    "              \"(?, ?, DATETIME('now'))\", (example2, 0))      \n",
    "          \n",
    "#Commit salva as alterações feitas no database\n",
    "conn.commit()\n",
    "\n",
    "#Fecha a conexão\n",
    "conn.close()"
   ]
  },
  {
   "cell_type": "markdown",
   "metadata": {},
   "source": [
    "Verificando se as entradas, tabelas e colunas foram armazenadas corretamente"
   ]
  },
  {
   "cell_type": "code",
   "execution_count": 23,
   "metadata": {},
   "outputs": [],
   "source": [
    "#Reabrindo a conexão\n",
    "conn = sqlite3.connect('review.sqlite')\n",
    "c = conn.cursor()\n",
    "\n",
    "#Selecionando tudo que foi add no banco do começo de 2020 até agora (22/02/2020)\n",
    "c.execute(\"SELECT * FROM review_db WHERE date\"\\\n",
    "             \" BETWEEN '2020-01-01 00:00:00' AND DATETIME('now')\")\n",
    "\n",
    "#Recuperando o resultado da query\n",
    "result = c.fetchall()\n",
    "\n",
    "conn.close()"
   ]
  },
  {
   "cell_type": "code",
   "execution_count": 26,
   "metadata": {},
   "outputs": [
    {
     "data": {
      "text/plain": [
       "[('I love this movie', 1, '2020-02-22 16:41:15'),\n",
       " ('I dislike this movie', 0, '2020-02-22 16:41:15')]"
      ]
     },
     "execution_count": 26,
     "metadata": {},
     "output_type": "execute_result"
    }
   ],
   "source": [
    "result"
   ]
  },
  {
   "cell_type": "markdown",
   "metadata": {},
   "source": [
    "# Developing a web application with Flask"
   ]
  },
  {
   "cell_type": "markdown",
   "metadata": {},
   "source": [
    "Utilizaremos o framework [__FLASK__](http://flask.pocoo.org/docs/0.12/) para escrever a aplicação web. É um modelo muito popular criado em 2010, escrito em Python o que facilita muito a vida dos programadores. Diversas empresas famosas usaram ou ainda usam Flask, como por exemplo LinkedIn e Pinterest."
   ]
  },
  {
   "cell_type": "markdown",
   "metadata": {},
   "source": [
    "## Primeira aplicação web em Flask"
   ]
  },
  {
   "cell_type": "markdown",
   "metadata": {},
   "source": [
    "Para se familiarizar e aprender a utilizar o __Flask API__ , desenvolveremos primeiro uma aplicação bem simples consistindo uma uma unica pagina web, com uma campo de formulario que permite inserir um nome."
   ]
  },
  {
   "cell_type": "markdown",
   "metadata": {},
   "source": [
    "Inicialmente criamos os seguintes diretórios com os seguintes arquivos:"
   ]
  },
  {
   "cell_type": "code",
   "execution_count": 27,
   "metadata": {},
   "outputs": [
    {
     "data": {
      "text/plain": [
       "'\\n1st_flask_app_1/\\n    app.py\\n    templates/\\n        first_app.html\\n'"
      ]
     },
     "execution_count": 27,
     "metadata": {},
     "output_type": "execute_result"
    }
   ],
   "source": [
    "\"\"\"\n",
    "1st_flask_app_1/\n",
    "    app.py\n",
    "    templates/\n",
    "        first_app.html\n",
    "\"\"\""
   ]
  },
  {
   "cell_type": "markdown",
   "metadata": {},
   "source": [
    "__app.py:__ Conterá o código principal que será executado pelo interpretador Python para executar a aplicação web\n",
    "<br>\n",
    "__templates:__ É o diretório em que o flask irá buscar pelos arquivos HTML para renderizar a pagina web"
   ]
  },
  {
   "cell_type": "code",
   "execution_count": 31,
   "metadata": {},
   "outputs": [],
   "source": [
    "#Código do arquivo app.py\n",
    "# from flask import Flask, render_template\n",
    "\n",
    "# app = Flask(__name__)\n",
    "\n",
    "# @app.route('/')\n",
    "# def index():\n",
    "#     return render_template('first_app.html')\n",
    "\n",
    "# if __name__ == '__main__':\n",
    "#     app.run()"
   ]
  },
  {
   "cell_type": "markdown",
   "metadata": {},
   "source": [
    "* Executamos nossa aplicação como um módulo unico, assim nós inicializamos uma nova instancia do Flask com o argumento \\__name__ para deixar o Flask saber que ele pode encontrar a pasta com templates HTML, no mesmo diretório em que esta localizada.\n",
    "<br>\n",
    "\n",
    "* Utilizamos um decorador de rotas(route) - (@app.route('/')) - para especificar a URL que deve acionar a execução da função índice.\n",
    "<br>\n",
    "\n",
    "* A função index apenas renderiza o arquivo HTML ('first.app.html') que esta localizado na pasta templates\n",
    "<br>\n",
    "\n",
    "* Por último a função __run__ que apenas executa a aplicação no servidor quando o script é executado diretamente de um interpretador Python, isto é garantido pelo __if__ com \\__name__ == '\\__main__'"
   ]
  },
  {
   "cell_type": "code",
   "execution_count": 35,
   "metadata": {},
   "outputs": [],
   "source": [
    "#Código HTML do arquivo first_app.html\n",
    "# <!doctype html>\n",
    "# <html>\n",
    "#     <head>\n",
    "#         <tile>First App</title>\n",
    "#     </head>\n",
    "#     <body>\n",
    "#         <div>Minha primeira web app com Flask!</div>\n",
    "#     </body>\n",
    "# </html>"
   ]
  },
  {
   "cell_type": "markdown",
   "metadata": {},
   "source": [
    "No arquivo acima, simplesmente iniciamos um documento html em branco, com um elemento de bloco (< div >) que contém uma frase de apresentação. <br>\n",
    "Convenientemente, Flask permite rodar a aplicação localmente, into é útil pra o desenvolvimento da aplicação e para testa-la antes de fazer o deploy. <br>\n",
    "Para testar nossa aplicação basta no terminal, dentro do diretório da aplicação, executar: __python app.py__"
   ]
  },
  {
   "cell_type": "markdown",
   "metadata": {},
   "source": [
    "## Formulario de validação e renderização"
   ]
  },
  {
   "cell_type": "markdown",
   "metadata": {},
   "source": [
    "Iremos agora aprimorar a web app com elementos de formularios do HTML, para poder coletar dados dos usuários, usando a lib [WTForms](https://wtforms.readthedocs.io/en/latest/)"
   ]
  },
  {
   "cell_type": "markdown",
   "metadata": {},
   "source": [
    "A idéia agora é que na primeira pagina o usuario insira o nome no campo destinado, e pressione o botão de _submit_ , em seguida uma nova pagina é exibida com o nome inserido e uma saudação."
   ]
  },
  {
   "cell_type": "code",
   "execution_count": 1,
   "metadata": {},
   "outputs": [
    {
     "data": {
      "text/plain": [
       "'\\n1st_flask_app_2/\\n    app.py\\n    static/\\n        style.css\\n    templates/\\n        _formhelpers.html\\n        first_app.html\\n        hello.html\\n'"
      ]
     },
     "execution_count": 1,
     "metadata": {},
     "output_type": "execute_result"
    }
   ],
   "source": [
    "# Inicialmente criaremos um novo diretório \n",
    "\"\"\"\n",
    "1st_flask_app_2/\n",
    "    app.py\n",
    "    static/\n",
    "        style.css\n",
    "    templates/\n",
    "        _formhelpers.html\n",
    "        first_app.html\n",
    "        hello.html\n",
    "\"\"\""
   ]
  },
  {
   "cell_type": "markdown",
   "metadata": {},
   "source": [
    "__Algumas modificações precisarão ser feitas no app.py__"
   ]
  },
  {
   "cell_type": "code",
   "execution_count": 5,
   "metadata": {},
   "outputs": [
    {
     "data": {
      "text/plain": [
       "\"\\nfrom flask import Flask, render_template, request\\nfrom wtforms import Form, TextAreaField, validators\\n\\n#Usando wtforms nós extendemos a função index, criando um campo de texto que será incluido na pagina através da classe TextAreaField\\n#que automaticamente ja checa quando o usuario insere um input valido ou não.\\n\\napp = Flask(__name__)\\n\\nclass HelloForm(Form):\\n    sayhello = TextAreaField('', [validators.DataRequired()])\\n\\n@app.route('/')\\ndef index():\\n    form = HelloForm(request.form)\\n    return render_template('first_app.html', form=form)\\n\\n#O metodo 'POST' é usado para transportar os dados do formulario para o servidor\\n@app.rout('/hello', methods=['POST'])\\n\\n#Definindo uma nova função (hello) que será responsável por renderizar a  pagina HTML hello.html após a validação do formulario\\ndef hello():\\n    form = HelloForm(request.form)\\n    if request.method == 'POST' and form.validate():\\n        name = request.method == 'POST' and form.validate():\\n        return render_template('first_app.html', form=form)\\n    return render_template('first_app.html', form=form)\\n\\n\\n#O argumento debug=True ativa o depurador do FLASK, o que será útil futuramente.\\nif __name__ == '__main__':\\n    app.run(debug=True)\\n\\n\""
      ]
     },
     "execution_count": 5,
     "metadata": {},
     "output_type": "execute_result"
    }
   ],
   "source": [
    "#Código da arquivo app.py\n",
    "\"\"\"\n",
    "from flask import Flask, render_template, request\n",
    "from wtforms import Form, TextAreaField, validators\n",
    "\n",
    "#Usando wtforms nós extendemos a função index, criando um campo de texto que será incluido na pagina através da classe TextAreaField\n",
    "#que automaticamente ja checa quando o usuario insere um input valido ou não.\n",
    "\n",
    "app = Flask(__name__)\n",
    "\n",
    "class HelloForm(Form):\n",
    "    sayhello = TextAreaField('', [validators.DataRequired()])\n",
    "\n",
    "@app.route('/')\n",
    "def index():\n",
    "    form = HelloForm(request.form)\n",
    "    return render_template('first_app.html', form=form)\n",
    "\n",
    "#O metodo 'POST' é usado para transportar os dados do formulario para o servidor\n",
    "@app.rout('/hello', methods=['POST'])\n",
    "\n",
    "#Definindo uma nova função (hello) que será responsável por renderizar a  pagina HTML hello.html após a validação do formulario\n",
    "def hello():\n",
    "    form = HelloForm(request.form)\n",
    "    if request.method == 'POST' and form.validate():\n",
    "        name = request.method == 'POST' and form.validate():\n",
    "        return render_template('first_app.html', form=form)\n",
    "    return render_template('first_app.html', form=form)\n",
    "\n",
    "\n",
    "#O argumento debug=True ativa o depurador do FLASK, o que será útil futuramente.\n",
    "if __name__ == '__main__':\n",
    "    app.run(debug=True)\n",
    "\n",
    "\"\"\""
   ]
  },
  {
   "cell_type": "markdown",
   "metadata": {},
   "source": [
    "## Macro"
   ]
  },
  {
   "cell_type": "markdown",
   "metadata": {},
   "source": [
    "Implementaremos uma macro utilizando o motor template do [Jinja2](http://jinja.pocoo.org) no arquivo _formhelpers.html_ que depois será importado pela _first_app.html_"
   ]
  },
  {
   "cell_type": "code",
   "execution_count": null,
   "metadata": {},
   "outputs": [],
   "source": [
    "\"\"\"\n",
    "{% macro render_field(field) %}\n",
    "    <dt>{{ field.label }}\n",
    "    <dd>{{ field.(**kwargs)|safe }}\n",
    "    {% if field.errors %}\n",
    "        <ul class=errors>\n",
    "        {% for error in field.errors %}\n",
    "            <li>{{ error }}</li>\n",
    "        {% endfor %}\n",
    "        </ul>\n",
    "    {% endif %}\n",
    "    </dd>\n",
    "    </dt>\n",
    "{% endmacro %}\n",
    "\n",
    "\"\"\""
   ]
  },
  {
   "cell_type": "markdown",
   "metadata": {},
   "source": [
    "# Criando um app para review de filmes"
   ]
  },
  {
   "cell_type": "markdown",
   "metadata": {},
   "source": [
    "Agora que estamos familiarizados com alguns conceitos de desenvolvimento de web app, iremos atribuir isso ao nosso classificador de reviews de filmes"
   ]
  },
  {
   "cell_type": "code",
   "execution_count": null,
   "metadata": {},
   "outputs": [],
   "source": []
  },
  {
   "cell_type": "code",
   "execution_count": null,
   "metadata": {},
   "outputs": [],
   "source": []
  },
  {
   "cell_type": "code",
   "execution_count": null,
   "metadata": {},
   "outputs": [],
   "source": []
  },
  {
   "cell_type": "code",
   "execution_count": null,
   "metadata": {},
   "outputs": [],
   "source": []
  },
  {
   "cell_type": "code",
   "execution_count": null,
   "metadata": {},
   "outputs": [],
   "source": []
  },
  {
   "cell_type": "code",
   "execution_count": null,
   "metadata": {},
   "outputs": [],
   "source": []
  },
  {
   "cell_type": "code",
   "execution_count": null,
   "metadata": {},
   "outputs": [],
   "source": []
  },
  {
   "cell_type": "code",
   "execution_count": null,
   "metadata": {},
   "outputs": [],
   "source": []
  },
  {
   "cell_type": "code",
   "execution_count": null,
   "metadata": {},
   "outputs": [],
   "source": []
  }
 ],
 "metadata": {
  "kernelspec": {
   "display_name": "Python 3",
   "language": "python",
   "name": "python3"
  },
  "language_info": {
   "codemirror_mode": {
    "name": "ipython",
    "version": 3
   },
   "file_extension": ".py",
   "mimetype": "text/x-python",
   "name": "python",
   "nbconvert_exporter": "python",
   "pygments_lexer": "ipython3",
   "version": "3.7.4"
  },
  "latex_envs": {
   "LaTeX_envs_menu_present": true,
   "autoclose": true,
   "autocomplete": true,
   "bibliofile": "biblio.bib",
   "cite_by": "apalike",
   "current_citInitial": 1,
   "eqLabelWithNumbers": true,
   "eqNumInitial": 1,
   "hotkeys": {
    "equation": "Ctrl-E",
    "itemize": "Ctrl-I"
   },
   "labels_anchors": false,
   "latex_user_defs": false,
   "report_style_numbering": false,
   "user_envs_cfg": false
  },
  "toc": {
   "base_numbering": 1,
   "nav_menu": {},
   "number_sections": true,
   "sideBar": true,
   "skip_h1_title": false,
   "title_cell": "Table of Contents",
   "title_sidebar": "Contents",
   "toc_cell": false,
   "toc_position": {
    "height": "calc(100% - 180px)",
    "left": "10px",
    "top": "150px",
    "width": "221.188px"
   },
   "toc_section_display": true,
   "toc_window_display": false
  }
 },
 "nbformat": 4,
 "nbformat_minor": 2
}
